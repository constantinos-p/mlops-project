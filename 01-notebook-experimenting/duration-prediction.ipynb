{
 "cells": [
  {
   "cell_type": "code",
   "execution_count": 1,
   "id": "b2bd82d7",
   "metadata": {},
   "outputs": [
    {
     "name": "stdout",
     "output_type": "stream",
     "text": [
      "Python 3.9.19\n"
     ]
    }
   ],
   "source": [
    "!python -V"
   ]
  },
  {
   "cell_type": "code",
   "execution_count": 6,
   "id": "41062d8a",
   "metadata": {},
   "outputs": [],
   "source": [
    "import pandas as pd"
   ]
  },
  {
   "cell_type": "code",
   "execution_count": 7,
   "id": "c984c564",
   "metadata": {},
   "outputs": [],
   "source": [
    "import pickle"
   ]
  },
  {
   "cell_type": "code",
   "execution_count": 8,
   "id": "4add538c",
   "metadata": {},
   "outputs": [],
   "source": [
    "import seaborn as sns\n",
    "import matplotlib.pyplot as plt"
   ]
  },
  {
   "cell_type": "code",
   "execution_count": 80,
   "id": "8b135c2b",
   "metadata": {},
   "outputs": [],
   "source": [
    "from sklearn.feature_extraction import DictVectorizer\n",
    "from sklearn.linear_model import LinearRegression\n",
    "from sklearn.linear_model import Lasso\n",
    "from sklearn.linear_model import Ridge\n",
    "\n",
    "from sklearn.metrics import mean_squared_error, mean_absolute_percentage_error\n",
    "from datetime import timedelta\n"
   ]
  },
  {
   "cell_type": "code",
   "execution_count": 204,
   "id": "8e013caf",
   "metadata": {},
   "outputs": [],
   "source": [
    "\n",
    "def find_header_row(file_path):\n",
    "    # Load the Excel file\n",
    "    df_raw = pd.read_excel(file_path)\n",
    "    \n",
    "    # Iterate through rows to find the header row\n",
    "    for i, row in df_raw.iterrows():\n",
    "        if \"BOROUGH\" in row.values:  # Replace with any known column name\n",
    "            return i\n",
    "    \n",
    "    return None\n",
    "\n",
    "def excelToDf(file_path):\n",
    "    start_row_index = find_header_row(file_path)\n",
    "    df = pd.read_excel(file_path,skiprows=start_row_index+1)\n",
    "    df.columns = df.columns.str.lower().str.replace(' ', '_')\n",
    "    df.rename(columns={'building_class_at_time_of_sale': 'building_class'}, inplace=True)\n",
    "    df['zip_code'] = df['zip_code'].astype(str)\n",
    "    df= df[(df.sale_price> 1200000) &(df.sale_price< 5000000)&(df.land_square_feet>0) &(df.gross_square_feet>0) & \n",
    "           (df.total_units>0) &(len(df.zip_code)>0) & (df.year_built>1950)]\n",
    "    df['total_square_footage'] = df.land_square_feet + df.gross_square_feet\n",
    "\n",
    "\n",
    "    # categorical = ['zip_code']\n",
    "    # df[categorical] = df[categorical].astype(str)\n",
    "    return df\n",
    "\n",
    "df = excelToDf('./data/rollingsales_brooklyn_june_2024.xlsx')\n"
   ]
  },
  {
   "cell_type": "code",
   "execution_count": 205,
   "id": "72f24c4f",
   "metadata": {},
   "outputs": [
    {
     "data": {
      "text/plain": [
       "borough                               int64\n",
       "neighborhood                         object\n",
       "building_class_category              object\n",
       "tax_class_at_present                 object\n",
       "block                                 int64\n",
       "lot                                   int64\n",
       "easement                            float64\n",
       "building_class_at_present            object\n",
       "address                              object\n",
       "apartment_number                     object\n",
       "zip_code                             object\n",
       "residential_units                   float64\n",
       "commercial_units                    float64\n",
       "total_units                         float64\n",
       "land_square_feet                    float64\n",
       "gross_square_feet                   float64\n",
       "year_built                          float64\n",
       "tax_class_at_time_of_sale             int64\n",
       "building_class                       object\n",
       "sale_price                            int64\n",
       "sale_date                    datetime64[ns]\n",
       "total_square_footage                float64\n",
       "dtype: object"
      ]
     },
     "execution_count": 205,
     "metadata": {},
     "output_type": "execute_result"
    }
   ],
   "source": [
    "df.dtypes"
   ]
  },
  {
   "cell_type": "code",
   "execution_count": 206,
   "id": "b03aedbd",
   "metadata": {},
   "outputs": [],
   "source": [
    "def split_data():\n",
    "    df['sale_date'] = pd.to_datetime(df['sale_date'], errors='coerce')\n",
    "    max_date = df['sale_date'].max()\n",
    "    \n",
    "    # Determine the start date for the two latest months\n",
    "    two_months_ago = max_date - timedelta(days=60)\n",
    "    train_data = df[df.sale_date<two_months_ago]\n",
    "    val_data = df[df.sale_date>=two_months_ago]\n",
    "    return (train_data,val_data)\n",
    "\n",
    "\n",
    "train_data,val_data = split_data()\n"
   ]
  },
  {
   "cell_type": "code",
   "execution_count": 207,
   "id": "b2605940",
   "metadata": {},
   "outputs": [
    {
     "data": {
      "text/plain": [
       "6666"
      ]
     },
     "execution_count": 207,
     "metadata": {},
     "output_type": "execute_result"
    }
   ],
   "source": [
    "train_data.size\n"
   ]
  },
  {
   "cell_type": "code",
   "execution_count": 208,
   "id": "9a9cafeb",
   "metadata": {},
   "outputs": [
    {
     "data": {
      "text/plain": [
       "1210"
      ]
     },
     "execution_count": 208,
     "metadata": {},
     "output_type": "execute_result"
    }
   ],
   "source": [
    "val_data.size"
   ]
  },
  {
   "cell_type": "code",
   "execution_count": 224,
   "id": "116ff0cc",
   "metadata": {},
   "outputs": [
    {
     "name": "stderr",
     "output_type": "stream",
     "text": [
      "/Users/konstantinos/.local/share/virtualenvs/notebook_experimenting--TWBekga/lib/python3.9/site-packages/sklearn/metrics/_regression.py:492: FutureWarning: 'squared' is deprecated in version 1.4 and will be removed in 1.6. To calculate the root mean squared error, use the function'root_mean_squared_error'.\n",
      "  warnings.warn(\n"
     ]
    },
    {
     "data": {
      "text/plain": [
       "np.float64(935242.7504082854)"
      ]
     },
     "execution_count": 224,
     "metadata": {},
     "output_type": "execute_result"
    }
   ],
   "source": [
    "categorical = [\"building_class_category\",\"building_class\"]\n",
    "numerical = [\"total_units\"]\n",
    "\n",
    "\n",
    "train_dicts = train_data[categorical + numerical].to_dict(orient='records')\n",
    "train_dicts\n",
    "\n",
    "dv = DictVectorizer()\n",
    "X_train = dv.fit_transform(train_dicts)\n",
    "\n",
    "target = 'sale_price'\n",
    "y_train = train_data[target].values\n",
    "\n",
    "lr = LinearRegression()\n",
    "lr.fit(X_train, y_train)\n",
    "\n",
    "val_dicts = val_data[categorical+numerical].to_dict(orient='records')\n",
    "X_val = dv.transform(val_dicts)\n",
    "y_val = val_data[target].values\n",
    "y_pred = lr.predict(X_val)\n",
    "\n",
    "mean_squared_error(y_val, y_pred, squared=False)"
   ]
  },
  {
   "cell_type": "code",
   "execution_count": 223,
   "id": "9c5cc0fa",
   "metadata": {},
   "outputs": [
    {
     "data": {
      "text/plain": [
       "np.float64(0.27195524138108734)"
      ]
     },
     "execution_count": 223,
     "metadata": {},
     "output_type": "execute_result"
    }
   ],
   "source": [
    "mean_absolute_percentage_error(y_val, y_pred)"
   ]
  },
  {
   "cell_type": "code",
   "execution_count": 16,
   "id": "22bf6f8b",
   "metadata": {},
   "outputs": [],
   "source": [
    "with open('models/lin_reg.bin', 'wb') as f_out:\n",
    "    pickle.dump((dv, lr), f_out)"
   ]
  }
 ],
 "metadata": {
  "kernelspec": {
   "display_name": "Python 3 (ipykernel)",
   "language": "python",
   "name": "python3"
  },
  "language_info": {
   "codemirror_mode": {
    "name": "ipython",
    "version": 3
   },
   "file_extension": ".py",
   "mimetype": "text/x-python",
   "name": "python",
   "nbconvert_exporter": "python",
   "pygments_lexer": "ipython3",
   "version": "3.9.19"
  }
 },
 "nbformat": 4,
 "nbformat_minor": 5
}
